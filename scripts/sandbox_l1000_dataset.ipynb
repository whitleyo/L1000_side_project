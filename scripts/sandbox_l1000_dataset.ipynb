{
 "cells": [
  {
   "cell_type": "code",
   "execution_count": 1,
   "metadata": {},
   "outputs": [],
   "source": [
    "import os\n",
    "import numpy as np\n",
    "import pandas as pd\n",
    "import sys\n",
    "sys.path.append('../functions_classes')\n",
    "from l1000_classes import L1000_dataset"
   ]
  },
  {
   "cell_type": "code",
   "execution_count": 2,
   "metadata": {},
   "outputs": [],
   "source": [
    "# filepaths for data\n",
    "data_dir = '../data/L1000_phase_1/'\n",
    "# gctx file\n",
    "L1000_fname = 'GSE92742_Broad_LINCS_Level3_INF_mlr12k_n1319138x12328.gctx'\n",
    "# gene metadata\n",
    "gene_info_file = 'GSE92742_Broad_LINCS_gene_info.txt'\n",
    "# sample metadata\n",
    "inst_info_file = 'GSE92742_Broad_LINCS_inst_info.txt'\n",
    "\n",
    "# initialize object\n",
    "\n",
    "phase_1 = L1000_dataset(gctx_path = os.path.join(data_dir, L1000_fname), \n",
    "                        inst_info_path = os.path.join(data_dir, inst_info_file), \n",
    "                        gene_info_path = os.path.join(data_dir, gene_info_file))"
   ]
  },
  {
   "cell_type": "code",
   "execution_count": 3,
   "metadata": {},
   "outputs": [],
   "source": [
    "inst_info = phase_1.get(data_name = 'inst_info')"
   ]
  },
  {
   "cell_type": "code",
   "execution_count": 4,
   "metadata": {},
   "outputs": [
    {
     "data": {
      "text/plain": [
       "inst_id            object\n",
       "rna_plate          object\n",
       "rna_well           object\n",
       "pert_id            object\n",
       "pert_iname         object\n",
       "pert_type          object\n",
       "pert_dose         float64\n",
       "pert_dose_unit     object\n",
       "pert_time           int64\n",
       "pert_time_unit     object\n",
       "cell_id            object\n",
       "dtype: object"
      ]
     },
     "execution_count": 4,
     "metadata": {},
     "output_type": "execute_result"
    }
   ],
   "source": [
    "inst_info.dtypes"
   ]
  },
  {
   "cell_type": "code",
   "execution_count": 5,
   "metadata": {},
   "outputs": [
    {
     "data": {
      "text/plain": [
       "<bound method NDFrame.head of                                        inst_id            rna_plate rna_well  \\\n",
       "0        ASG001_MCF7_24H_X1_B7_DUO52HI53LO:F13   ASG001_MCF7_24H_X1      F13   \n",
       "1        ASG001_MCF7_24H_X1_B7_DUO52HI53LO:G13   ASG001_MCF7_24H_X1      G13   \n",
       "2        ASG001_MCF7_24H_X1_B7_DUO52HI53LO:I13   ASG001_MCF7_24H_X1      I13   \n",
       "3        ASG001_MCF7_24H_X1_B7_DUO52HI53LO:K13   ASG001_MCF7_24H_X1      K13   \n",
       "4        ASG001_MCF7_24H_X1_B7_DUO52HI53LO:N13   ASG001_MCF7_24H_X1      N13   \n",
       "5        ASG001_MCF7_24H_X1_B7_DUO52HI53LO:P08   ASG001_MCF7_24H_X1      P08   \n",
       "6        ASG001_MCF7_24H_X1_B7_DUO52HI53LO:P12   ASG001_MCF7_24H_X1      P12   \n",
       "7        ASG001_MCF7_24H_X1_B7_DUO52HI53LO:P17   ASG001_MCF7_24H_X1      P17   \n",
       "8        ASG001_MCF7_24H_X1_B7_DUO52HI53LO:P18   ASG001_MCF7_24H_X1      P18   \n",
       "9        ASG001_MCF7_24H_X1_B7_DUO52HI53LO:P19   ASG001_MCF7_24H_X1      P19   \n",
       "10       ASG001_MCF7_24H_X1_B7_DUO52HI53LO:P21   ASG001_MCF7_24H_X1      P21   \n",
       "11       ASG001_MCF7_24H_X1_B7_DUO52HI53LO:P22   ASG001_MCF7_24H_X1      P22   \n",
       "12       ASG001_MCF7_24H_X1_B7_DUO52HI53LO:A06   ASG001_MCF7_24H_X1      A06   \n",
       "13       ASG001_MCF7_24H_X1_B7_DUO52HI53LO:B06   ASG001_MCF7_24H_X1      B06   \n",
       "14       ASG001_MCF7_24H_X1_B7_DUO52HI53LO:C06   ASG001_MCF7_24H_X1      C06   \n",
       "15       ASG001_MCF7_24H_X1_B7_DUO52HI53LO:D06   ASG001_MCF7_24H_X1      D06   \n",
       "16       ASG001_MCF7_24H_X1_B7_DUO52HI53LO:E06   ASG001_MCF7_24H_X1      E06   \n",
       "17       ASG001_MCF7_24H_X1_B7_DUO52HI53LO:E24   ASG001_MCF7_24H_X1      E24   \n",
       "18       ASG001_MCF7_24H_X1_B7_DUO52HI53LO:F06   ASG001_MCF7_24H_X1      F06   \n",
       "19       ASG001_MCF7_24H_X1_B7_DUO52HI53LO:G06   ASG001_MCF7_24H_X1      G06   \n",
       "20       ASG001_MCF7_24H_X1_B7_DUO52HI53LO:H06   ASG001_MCF7_24H_X1      H06   \n",
       "21       ASG001_MCF7_24H_X1_B7_DUO52HI53LO:I06   ASG001_MCF7_24H_X1      I06   \n",
       "22       ASG001_MCF7_24H_X1_B7_DUO52HI53LO:J06   ASG001_MCF7_24H_X1      J06   \n",
       "23       ASG001_MCF7_24H_X1_B7_DUO52HI53LO:K06   ASG001_MCF7_24H_X1      K06   \n",
       "24       ASG001_MCF7_24H_X1_B7_DUO52HI53LO:L06   ASG001_MCF7_24H_X1      L06   \n",
       "25       ASG001_MCF7_24H_X1_B7_DUO52HI53LO:M06   ASG001_MCF7_24H_X1      M06   \n",
       "26       ASG001_MCF7_24H_X1_B7_DUO52HI53LO:N06   ASG001_MCF7_24H_X1      N06   \n",
       "27       ASG001_MCF7_24H_X1_B7_DUO52HI53LO:O06   ASG001_MCF7_24H_X1      O06   \n",
       "28       ASG001_MCF7_24H_X1_B7_DUO52HI53LO:A04   ASG001_MCF7_24H_X1      A04   \n",
       "29       ASG001_MCF7_24H_X1_B7_DUO52HI53LO:B04   ASG001_MCF7_24H_X1      B04   \n",
       "...                                        ...                  ...      ...   \n",
       "1319108            PCLB002_MCF7_24H_X3_B13:O18  PCLB002_MCF7_24H_X3      O18   \n",
       "1319109            PCLB002_MCF7_24H_X3_B13:O19  PCLB002_MCF7_24H_X3      O19   \n",
       "1319110            PCLB002_MCF7_24H_X3_B13:O20  PCLB002_MCF7_24H_X3      O20   \n",
       "1319111            PCLB002_MCF7_24H_X3_B13:O21  PCLB002_MCF7_24H_X3      O21   \n",
       "1319112            PCLB002_MCF7_24H_X3_B13:O22  PCLB002_MCF7_24H_X3      O22   \n",
       "1319113            PCLB002_MCF7_24H_X3_B13:O23  PCLB002_MCF7_24H_X3      O23   \n",
       "1319114            PCLB002_MCF7_24H_X3_B13:P01  PCLB002_MCF7_24H_X3      P01   \n",
       "1319115            PCLB002_MCF7_24H_X3_B13:P02  PCLB002_MCF7_24H_X3      P02   \n",
       "1319116            PCLB002_MCF7_24H_X3_B13:P03  PCLB002_MCF7_24H_X3      P03   \n",
       "1319117            PCLB002_MCF7_24H_X3_B13:P04  PCLB002_MCF7_24H_X3      P04   \n",
       "1319118            PCLB002_MCF7_24H_X3_B13:P05  PCLB002_MCF7_24H_X3      P05   \n",
       "1319119            PCLB002_MCF7_24H_X3_B13:P06  PCLB002_MCF7_24H_X3      P06   \n",
       "1319120            PCLB002_MCF7_24H_X3_B13:P07  PCLB002_MCF7_24H_X3      P07   \n",
       "1319121            PCLB002_MCF7_24H_X3_B13:P08  PCLB002_MCF7_24H_X3      P08   \n",
       "1319122            PCLB002_MCF7_24H_X3_B13:P09  PCLB002_MCF7_24H_X3      P09   \n",
       "1319123            PCLB002_MCF7_24H_X3_B13:P10  PCLB002_MCF7_24H_X3      P10   \n",
       "1319124            PCLB002_MCF7_24H_X3_B13:P11  PCLB002_MCF7_24H_X3      P11   \n",
       "1319125            PCLB002_MCF7_24H_X3_B13:P12  PCLB002_MCF7_24H_X3      P12   \n",
       "1319126            PCLB002_MCF7_24H_X3_B13:P13  PCLB002_MCF7_24H_X3      P13   \n",
       "1319127            PCLB002_MCF7_24H_X3_B13:P14  PCLB002_MCF7_24H_X3      P14   \n",
       "1319128            PCLB002_MCF7_24H_X3_B13:P15  PCLB002_MCF7_24H_X3      P15   \n",
       "1319129            PCLB002_MCF7_24H_X3_B13:P16  PCLB002_MCF7_24H_X3      P16   \n",
       "1319130            PCLB002_MCF7_24H_X3_B13:P17  PCLB002_MCF7_24H_X3      P17   \n",
       "1319131            PCLB002_MCF7_24H_X3_B13:P18  PCLB002_MCF7_24H_X3      P18   \n",
       "1319132            PCLB002_MCF7_24H_X3_B13:P19  PCLB002_MCF7_24H_X3      P19   \n",
       "1319133            PCLB002_MCF7_24H_X3_B13:P20  PCLB002_MCF7_24H_X3      P20   \n",
       "1319134            PCLB002_MCF7_24H_X3_B13:P21  PCLB002_MCF7_24H_X3      P21   \n",
       "1319135            PCLB002_MCF7_24H_X3_B13:P22  PCLB002_MCF7_24H_X3      P22   \n",
       "1319136            PCLB002_MCF7_24H_X3_B13:P23  PCLB002_MCF7_24H_X3      P23   \n",
       "1319137            PCLB002_MCF7_24H_X3_B13:P24  PCLB002_MCF7_24H_X3      P24   \n",
       "\n",
       "               pert_id       pert_iname    pert_type   pert_dose  \\\n",
       "0                 DMSO             DMSO  ctl_vehicle    0.100000   \n",
       "1                 DMSO             DMSO  ctl_vehicle    0.100000   \n",
       "2                 DMSO             DMSO  ctl_vehicle    0.100000   \n",
       "3                 DMSO             DMSO  ctl_vehicle    0.100000   \n",
       "4                 DMSO             DMSO  ctl_vehicle    0.100000   \n",
       "5                 DMSO             DMSO  ctl_vehicle    0.100000   \n",
       "6                 DMSO             DMSO  ctl_vehicle    0.100000   \n",
       "7                 DMSO             DMSO  ctl_vehicle    0.100000   \n",
       "8                 DMSO             DMSO  ctl_vehicle    0.100000   \n",
       "9                 DMSO             DMSO  ctl_vehicle    0.100000   \n",
       "10                DMSO             DMSO  ctl_vehicle    0.100000   \n",
       "11                DMSO             DMSO  ctl_vehicle    0.100000   \n",
       "12       BRD-A60070924  alpha-estradiol       trt_cp   10.000000   \n",
       "13       BRD-A60070924  alpha-estradiol       trt_cp    2.000000   \n",
       "14       BRD-A60070924  alpha-estradiol       trt_cp    0.400000   \n",
       "15       BRD-A60070924  alpha-estradiol       trt_cp    0.080000   \n",
       "16       BRD-A60070924  alpha-estradiol       trt_cp   10.000000   \n",
       "17       BRD-A60070924  alpha-estradiol       trt_cp    0.080000   \n",
       "18       BRD-A60070924  alpha-estradiol       trt_cp    2.000000   \n",
       "19       BRD-A60070924  alpha-estradiol       trt_cp    0.400000   \n",
       "20       BRD-A60070924  alpha-estradiol       trt_cp    0.080000   \n",
       "21       BRD-A60070924  alpha-estradiol       trt_cp   10.000000   \n",
       "22       BRD-A60070924  alpha-estradiol       trt_cp    2.000000   \n",
       "23       BRD-A60070924  alpha-estradiol       trt_cp    0.400000   \n",
       "24       BRD-A60070924  alpha-estradiol       trt_cp    0.080000   \n",
       "25       BRD-A60070924  alpha-estradiol       trt_cp   10.000000   \n",
       "26       BRD-A60070924  alpha-estradiol       trt_cp    2.000000   \n",
       "27       BRD-A60070924  alpha-estradiol       trt_cp    0.400000   \n",
       "28       BRD-A19037878   trichostatin-a       trt_cp   10.000000   \n",
       "29       BRD-A19037878   trichostatin-a       trt_cp    2.000000   \n",
       "...                ...              ...          ...         ...   \n",
       "1319108  BRD-K98948170    BRD-K98948170       trt_cp    0.040000   \n",
       "1319109  BRD-K19876534    BRD-K19876534       trt_cp   10.000000   \n",
       "1319110  BRD-K19876534    BRD-K19876534       trt_cp    3.330000   \n",
       "1319111  BRD-K19876534    BRD-K19876534       trt_cp    1.110000   \n",
       "1319112  BRD-K19876534    BRD-K19876534       trt_cp    0.370000   \n",
       "1319113  BRD-K19876534    BRD-K19876534       trt_cp    0.120000   \n",
       "1319114  BRD-K43797669        genistein       trt_cp   10.000000   \n",
       "1319115  BRD-K43797669        genistein       trt_cp    3.330000   \n",
       "1319116  BRD-K43797669        genistein       trt_cp    1.110000   \n",
       "1319117  BRD-K43797669        genistein       trt_cp    0.370000   \n",
       "1319118  BRD-K43797669        genistein       trt_cp    0.120000   \n",
       "1319119  BRD-K43797669        genistein       trt_cp    0.040000   \n",
       "1319120  BRD-K93367411    BRD-K93367411       trt_cp  100.000000   \n",
       "1319121  BRD-K93367411    BRD-K93367411       trt_cp   33.330002   \n",
       "1319122  BRD-K93367411    BRD-K93367411       trt_cp   11.110000   \n",
       "1319123  BRD-K93367411    BRD-K93367411       trt_cp    3.700000   \n",
       "1319124  BRD-K93367411    BRD-K93367411       trt_cp    1.230000   \n",
       "1319125  BRD-K93367411    BRD-K93367411       trt_cp    0.410000   \n",
       "1319126  BRD-A58955223     sulforaphane       trt_cp   10.000000   \n",
       "1319127  BRD-A58955223     sulforaphane       trt_cp    3.330000   \n",
       "1319128  BRD-A58955223     sulforaphane       trt_cp    1.110000   \n",
       "1319129  BRD-A58955223     sulforaphane       trt_cp    0.370000   \n",
       "1319130  BRD-A58955223     sulforaphane       trt_cp    0.120000   \n",
       "1319131  BRD-A58955223     sulforaphane       trt_cp    0.040000   \n",
       "1319132  BRD-A75409952       wortmannin       trt_cp   10.000000   \n",
       "1319133  BRD-A75409952       wortmannin       trt_cp    3.330000   \n",
       "1319134  BRD-A75409952       wortmannin       trt_cp    1.110000   \n",
       "1319135  BRD-A75409952       wortmannin       trt_cp    0.370000   \n",
       "1319136  BRD-A75409952       wortmannin       trt_cp    0.120000   \n",
       "1319137  BRD-A75409952       wortmannin       trt_cp    0.040000   \n",
       "\n",
       "        pert_dose_unit  pert_time pert_time_unit cell_id  \n",
       "0                    %         24              h    MCF7  \n",
       "1                    %         24              h    MCF7  \n",
       "2                    %         24              h    MCF7  \n",
       "3                    %         24              h    MCF7  \n",
       "4                    %         24              h    MCF7  \n",
       "5                    %         24              h    MCF7  \n",
       "6                    %         24              h    MCF7  \n",
       "7                    %         24              h    MCF7  \n",
       "8                    %         24              h    MCF7  \n",
       "9                    %         24              h    MCF7  \n",
       "10                   %         24              h    MCF7  \n",
       "11                   %         24              h    MCF7  \n",
       "12                  um         24              h    MCF7  \n",
       "13                  um         24              h    MCF7  \n",
       "14                  um         24              h    MCF7  \n",
       "15                  um         24              h    MCF7  \n",
       "16                  um         24              h    MCF7  \n",
       "17                  um         24              h    MCF7  \n",
       "18                  um         24              h    MCF7  \n",
       "19                  um         24              h    MCF7  \n",
       "20                  um         24              h    MCF7  \n",
       "21                  um         24              h    MCF7  \n",
       "22                  um         24              h    MCF7  \n",
       "23                  um         24              h    MCF7  \n",
       "24                  um         24              h    MCF7  \n",
       "25                  um         24              h    MCF7  \n",
       "26                  um         24              h    MCF7  \n",
       "27                  um         24              h    MCF7  \n",
       "28                  um         24              h    MCF7  \n",
       "29                  um         24              h    MCF7  \n",
       "...                ...        ...            ...     ...  \n",
       "1319108             um         24              h    MCF7  \n",
       "1319109             um         24              h    MCF7  \n",
       "1319110             um         24              h    MCF7  \n",
       "1319111             um         24              h    MCF7  \n",
       "1319112             um         24              h    MCF7  \n",
       "1319113             um         24              h    MCF7  \n",
       "1319114             um         24              h    MCF7  \n",
       "1319115             um         24              h    MCF7  \n",
       "1319116             um         24              h    MCF7  \n",
       "1319117             um         24              h    MCF7  \n",
       "1319118             um         24              h    MCF7  \n",
       "1319119             um         24              h    MCF7  \n",
       "1319120             um         24              h    MCF7  \n",
       "1319121             um         24              h    MCF7  \n",
       "1319122             um         24              h    MCF7  \n",
       "1319123             um         24              h    MCF7  \n",
       "1319124             um         24              h    MCF7  \n",
       "1319125             um         24              h    MCF7  \n",
       "1319126             um         24              h    MCF7  \n",
       "1319127             um         24              h    MCF7  \n",
       "1319128             um         24              h    MCF7  \n",
       "1319129             um         24              h    MCF7  \n",
       "1319130             um         24              h    MCF7  \n",
       "1319131             um         24              h    MCF7  \n",
       "1319132             um         24              h    MCF7  \n",
       "1319133             um         24              h    MCF7  \n",
       "1319134             um         24              h    MCF7  \n",
       "1319135             um         24              h    MCF7  \n",
       "1319136             um         24              h    MCF7  \n",
       "1319137             um         24              h    MCF7  \n",
       "\n",
       "[1319138 rows x 11 columns]>"
      ]
     },
     "execution_count": 5,
     "metadata": {},
     "output_type": "execute_result"
    }
   ],
   "source": [
    "inst_info.head"
   ]
  },
  {
   "cell_type": "code",
   "execution_count": 6,
   "metadata": {},
   "outputs": [],
   "source": [
    "gene_info = phase_1.get(data_name = 'gene_info')"
   ]
  },
  {
   "cell_type": "code",
   "execution_count": 7,
   "metadata": {},
   "outputs": [
    {
     "data": {
      "text/plain": [
       "pr_gene_id         int64\n",
       "pr_gene_symbol    object\n",
       "pr_gene_title     object\n",
       "pr_is_lm           int64\n",
       "pr_is_bing         int64\n",
       "dtype: object"
      ]
     },
     "execution_count": 7,
     "metadata": {},
     "output_type": "execute_result"
    }
   ],
   "source": [
    "gene_info.dtypes"
   ]
  },
  {
   "cell_type": "code",
   "execution_count": 8,
   "metadata": {},
   "outputs": [
    {
     "data": {
      "text/plain": [
       "<bound method NDFrame.head of        pr_gene_id pr_gene_symbol  \\\n",
       "0             780           DDR1   \n",
       "1            7849           PAX8   \n",
       "2            2978         GUCA1A   \n",
       "3            2049          EPHB3   \n",
       "4            2101          ESRRA   \n",
       "5            8717          TRADD   \n",
       "6           10594          PRPF8   \n",
       "7             826         CAPNS1   \n",
       "8           11224          RPL35   \n",
       "9            6158          RPL28   \n",
       "10           1982         EIF4G2   \n",
       "11           8664          EIF3D   \n",
       "12          11315          PARK7   \n",
       "13           6727          SRP14   \n",
       "14           2665           GDI2   \n",
       "15           6135          RPL11   \n",
       "16           6144          RPL21   \n",
       "17           6152          RPL24   \n",
       "18           4735          SEPT2   \n",
       "19           6233         RPS27A   \n",
       "20           6207          RPS13   \n",
       "21           2197            FAU   \n",
       "22           1072           CFL1   \n",
       "23           6141          RPL18   \n",
       "24           8665          EIF3F   \n",
       "25           6193           RPS5   \n",
       "26           6155          RPL27   \n",
       "27           6164          RPL34   \n",
       "28           4677           NARS   \n",
       "29          56910         STARD7   \n",
       "...           ...            ...   \n",
       "12298       55589          BMP2K   \n",
       "12299      376267          RAB15   \n",
       "12300       55662         HIF1AN   \n",
       "12301       79890           RIN3   \n",
       "12302       84820        POLR2J4   \n",
       "12303        2931          GSK3A   \n",
       "12304       63876         PKNOX2   \n",
       "12305        5526        PPP2R5B   \n",
       "12306       91860         CALML4   \n",
       "12307       51275   MAPKAPK5-AS1   \n",
       "12308       57175         CORO1B   \n",
       "12309      126298           IRGQ   \n",
       "12310      158747         MOSPD2   \n",
       "12311       64748         PLPPR2   \n",
       "12312       78992          YIPF2   \n",
       "12313       63897         HEATR6   \n",
       "12314       85002        FAM86B1   \n",
       "12315      283232         TMEM80   \n",
       "12316       25960         ADGRA2   \n",
       "12317       89941          RHOT2   \n",
       "12318       79874         RABEP2   \n",
       "12319   100289678         ZNF783   \n",
       "12320        6376         CX3CL1   \n",
       "12321       79716         NPEPL1   \n",
       "12322       11033          ADAP1   \n",
       "12323        4034          LRCH4   \n",
       "12324      399664          MEX3D   \n",
       "12325       54869         EPS8L1   \n",
       "12326       90379         DCAF15   \n",
       "12327          60           ACTB   \n",
       "\n",
       "                                           pr_gene_title  pr_is_lm  pr_is_bing  \n",
       "0            discoidin domain receptor tyrosine kinase 1         1           1  \n",
       "1                                           paired box 8         1           1  \n",
       "2                         guanylate cyclase activator 1A         0           0  \n",
       "3                                        EPH receptor B3         0           1  \n",
       "4                        estrogen related receptor alpha         0           1  \n",
       "5                   TNFRSF1A-associated via death domain         0           1  \n",
       "6                           pre-mRNA processing factor 8         0           1  \n",
       "7                               calpain, small subunit 1         0           1  \n",
       "8                                  ribosomal protein L35         0           1  \n",
       "9                                  ribosomal protein L28         0           1  \n",
       "10     eukaryotic translation initiation factor 4 gam...         0           1  \n",
       "11     eukaryotic translation initiation factor 3 sub...         0           1  \n",
       "12                                   parkinson protein 7         0           1  \n",
       "13                     signal recognition particle 14kDa         0           1  \n",
       "14                          GDP dissociation inhibitor 2         0           1  \n",
       "15                                 ribosomal protein L11         0           1  \n",
       "16                                 ribosomal protein L21         0           0  \n",
       "17                                 ribosomal protein L24         0           1  \n",
       "18                                              septin 2         0           1  \n",
       "19                                ribosomal protein S27a         0           1  \n",
       "20                                 ribosomal protein S13         0           1  \n",
       "21     Finkel-Biskis-Reilly murine sarcoma virus (FBR...         0           1  \n",
       "22                                             cofilin 1         0           0  \n",
       "23                                 ribosomal protein L18         0           1  \n",
       "24     eukaryotic translation initiation factor 3 sub...         0           1  \n",
       "25                                  ribosomal protein S5         1           1  \n",
       "26                                 ribosomal protein L27         0           1  \n",
       "27                                 ribosomal protein L34         0           1  \n",
       "28                           asparaginyl-tRNA synthetase         0           1  \n",
       "29       StAR related lipid transfer domain containing 7         0           1  \n",
       "...                                                  ...       ...         ...  \n",
       "12298                              BMP2 inducible kinase         0           1  \n",
       "12299                  RAB15, member RAS oncogene family         0           1  \n",
       "12300  hypoxia inducible factor 1, alpha subunit inhi...         0           1  \n",
       "12301                           Ras and Rab interactor 3         0           1  \n",
       "12302  polymerase (RNA) II (DNA directed) polypeptide...         0           0  \n",
       "12303                   glycogen synthase kinase 3 alpha         0           1  \n",
       "12304                           PBX/knotted 1 homeobox 2         0           1  \n",
       "12305  protein phosphatase 2 regulatory subunit B', beta         0           1  \n",
       "12306                                  calmodulin like 4         0           1  \n",
       "12307                           MAPKAPK5 antisense RNA 1         0           1  \n",
       "12308                                         coronin 1B         0           1  \n",
       "12309                  immunity-related GTPase family, Q         0           0  \n",
       "12310                   motile sperm domain containing 2         0           1  \n",
       "12311                 phospholipid phosphatase related 2         0           1  \n",
       "12312                        Yip1 domain family member 2         0           1  \n",
       "12313                           HEAT repeat containing 6         0           1  \n",
       "12314       family with sequence similarity 86 member B1         0           0  \n",
       "12315                           transmembrane protein 80         0           1  \n",
       "12316             adhesion G protein-coupled receptor A2         0           1  \n",
       "12317                       ras homolog family member T2         0           1  \n",
       "12318    rabaptin, RAB GTPase binding effector protein 2         0           1  \n",
       "12319                      zinc finger family member 783         0           1  \n",
       "12320                  chemokine (C-X3-C motif) ligand 1         0           1  \n",
       "12321                              aminopeptidase-like 1         1           1  \n",
       "12322                      ArfGAP with dual PH domains 1         0           1  \n",
       "12323  leucine-rich repeats and calponin homology (CH...         0           1  \n",
       "12324                  mex-3 RNA binding family member D         0           1  \n",
       "12325                                        EPS8 like 1         0           1  \n",
       "12326                 DDB1 and CUL4 associated factor 15         0           1  \n",
       "12327                                        actin, beta         0           1  \n",
       "\n",
       "[12328 rows x 5 columns]>"
      ]
     },
     "execution_count": 8,
     "metadata": {},
     "output_type": "execute_result"
    }
   ],
   "source": [
    "gene_info.head"
   ]
  },
  {
   "cell_type": "code",
   "execution_count": 9,
   "metadata": {},
   "outputs": [],
   "source": [
    "# only use landmark genes\n",
    "gene_ids = gene_info['pr_gene_id'][gene_info['pr_is_lm'] == 1].to_numpy().astype('str')\n",
    "sample_ids = inst_info['inst_id'].to_numpy().astype('str')\n",
    "# randomly sample 10,000 samples\n",
    "sample_ids = np.random.choice(sample_ids, size = np.power(10, 3), replace = False)"
   ]
  },
  {
   "cell_type": "code",
   "execution_count": 10,
   "metadata": {},
   "outputs": [
    {
     "data": {
      "text/plain": [
       "978"
      ]
     },
     "execution_count": 10,
     "metadata": {},
     "output_type": "execute_result"
    }
   ],
   "source": [
    "len(gene_ids)"
   ]
  },
  {
   "cell_type": "code",
   "execution_count": 11,
   "metadata": {},
   "outputs": [
    {
     "data": {
      "text/plain": [
       "1000"
      ]
     },
     "execution_count": 11,
     "metadata": {},
     "output_type": "execute_result"
    }
   ],
   "source": [
    "len(sample_ids)"
   ]
  },
  {
   "cell_type": "code",
   "execution_count": 12,
   "metadata": {},
   "outputs": [],
   "source": [
    "phase_1.load_data(row_ids = gene_ids, col_ids = sample_ids)"
   ]
  },
  {
   "cell_type": "code",
   "execution_count": 16,
   "metadata": {},
   "outputs": [
    {
     "data": {
      "text/plain": [
       "(1000, 978)"
      ]
     },
     "execution_count": 16,
     "metadata": {},
     "output_type": "execute_result"
    }
   ],
   "source": [
    "data_mat = phase_1.get('data')\n",
    "# note that returned data matrix is supposed to have samples in rows, features in columns.\n",
    "# why they decided to put genes under ROW metadata and samples under COL metadata\n",
    "# and then use a sample x feature matrix for storage is beyond me.\n",
    "data_mat.shape"
   ]
  },
  {
   "cell_type": "code",
   "execution_count": 17,
   "metadata": {},
   "outputs": [],
   "source": [
    "current_genes = phase_1.get('current_genes')\n",
    "current_samples = phase_1.get('current_inst')"
   ]
  },
  {
   "cell_type": "code",
   "execution_count": 18,
   "metadata": {},
   "outputs": [
    {
     "data": {
      "text/plain": [
       "978"
      ]
     },
     "execution_count": 18,
     "metadata": {},
     "output_type": "execute_result"
    }
   ],
   "source": [
    "len(current_genes)"
   ]
  },
  {
   "cell_type": "code",
   "execution_count": 19,
   "metadata": {},
   "outputs": [
    {
     "data": {
      "text/plain": [
       "1000"
      ]
     },
     "execution_count": 19,
     "metadata": {},
     "output_type": "execute_result"
    }
   ],
   "source": [
    "len(current_samples)"
   ]
  },
  {
   "cell_type": "code",
   "execution_count": null,
   "metadata": {},
   "outputs": [],
   "source": []
  }
 ],
 "metadata": {
  "kernelspec": {
   "display_name": "Python 3",
   "language": "python",
   "name": "python3"
  },
  "language_info": {
   "codemirror_mode": {
    "name": "ipython",
    "version": 3
   },
   "file_extension": ".py",
   "mimetype": "text/x-python",
   "name": "python",
   "nbconvert_exporter": "python",
   "pygments_lexer": "ipython3",
   "version": "3.6.9"
  }
 },
 "nbformat": 4,
 "nbformat_minor": 2
}
